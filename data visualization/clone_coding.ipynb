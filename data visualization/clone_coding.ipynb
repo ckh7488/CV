{
 "cells": [
  {
   "cell_type": "code",
   "execution_count": null,
   "metadata": {},
   "outputs": [],
   "source": [
    "import os\n",
    "os.chdir(\"./study material/\")\n",
    "!pip install -r requirements.txt"
   ]
  },
  {
   "cell_type": "code",
   "execution_count": null,
   "metadata": {},
   "outputs": [],
   "source": [
    "import pandas as pd \n",
    "import matplotlib.pyplot as plt\n",
    "import numpy as np\n"
   ]
  },
  {
   "cell_type": "code",
   "execution_count": null,
   "metadata": {},
   "outputs": [],
   "source": [
    "stocks = pd.read_csv(\"./prices.csv\")\n",
    "stocks[\"date\"] = pd.to_datetime(stocks[\"date\"])\n",
    "stocks.head(15)"
   ]
  },
  {
   "cell_type": "code",
   "execution_count": null,
   "metadata": {},
   "outputs": [],
   "source": [
    "from collections import defaultdict\n",
    "symbol_dict = defaultdict(int)\n",
    "for sym in stocks[\"symbol\"]:\n",
    "    symbol_dict[sym] += 1\n",
    "print(symbol_dict.keys())"
   ]
  },
  {
   "cell_type": "code",
   "execution_count": null,
   "metadata": {},
   "outputs": [],
   "source": [
    "stocks[(stocks[\"symbol\"]==\"WLTW\") & (stocks[\"date\"] >= \"2016-01-20\") & (stocks[\"date\"] <= \"2016-01-30\")]"
   ]
  },
  {
   "cell_type": "code",
   "execution_count": null,
   "metadata": {},
   "outputs": [],
   "source": [
    "def plot_symbol_within_jan(sym, highlight):\n",
    "    c = \"blue\" if highlight else \"gray\"\n",
    "    datas = stocks[(stocks[\"symbol\"]==sym)]\n",
    "    plt.plot(datas[\"date\"], datas[\"close\"], label=sym, color=c)"
   ]
  },
  {
   "cell_type": "code",
   "execution_count": null,
   "metadata": {},
   "outputs": [],
   "source": [
    "print(len(symbol_dict.keys()))\n",
    "filter_ar = np.random.choice([False,True], size=len(symbol_dict.keys()), p=[0.99,0.01])\n",
    "while filter_ar.sum() > 50:\n",
    "    filter_ar = np.random.choice([False,True], size=len(symbol_dict.keys()), p=[0.99,0.01])\n",
    "\n",
    "keys = np.array(list(symbol_dict.keys()))\n",
    "filtered_keys = keys[filter_ar]\n",
    "print(len(filtered_keys))\n",
    "\n",
    "isHighLighted = False\n",
    "for sym in filtered_keys:\n",
    "    prob_hL = [False]\n",
    "    if not isHighLighted:\n",
    "        prob_hL = np.random.choice([False, True], 1, p=[0.60,0.40])\n",
    "    # print(prob_hL[0])\n",
    "    plot_symbol_within_jan(sym, prob_hL[0])\n",
    "    if prob_hL[0]: \n",
    "        isHighLighted = prob_hL\n",
    "\n",
    "if not isHighLighted:\n",
    "    print(\"change color of last one blue\")\n",
    "    ax = plt.gca()\n",
    "    lines = ax.get_lines()\n",
    "    lines[-1].set_color(\"blue\")\n",
    "\n",
    "plt.legend()\n",
    "\n",
    "\n"
   ]
  },
  {
   "cell_type": "code",
   "execution_count": null,
   "metadata": {},
   "outputs": [],
   "source": [
    "data = pd.read_csv('2019-05-31-data.csv')\n",
    "data.head()"
   ]
  },
  {
   "cell_type": "code",
   "execution_count": null,
   "metadata": {},
   "outputs": [],
   "source": [
    "view_count = data['view_count']\n",
    "likes = data['likes']\n",
    "ratio = data['ratio']"
   ]
  },
  {
   "cell_type": "code",
   "execution_count": null,
   "metadata": {},
   "outputs": [],
   "source": [
    "fig, ax = plt.subplots()\n",
    "\n",
    "pc = ax.scatter(view_count, likes,\n",
    "           edgecolors=\"black\",\n",
    "           c=ratio,\n",
    "        #    cmap=\"summer\",\n",
    "           linewidths=1, alpha=0.8\n",
    "           )\n",
    "\n",
    "cbar = fig.colorbar(pc)\n",
    "ax.set_xscale(\"log\")\n",
    "ax.set_yscale(\"log\")\n",
    "ax.set_title(\"Trending YouTube Videos\")\n",
    "ax.set_ylabel(\"Total Likes\")\n",
    "ax.set_xlabel(\"View Count\")\n",
    "\n",
    "fig.tight_layout()"
   ]
  },
  {
   "cell_type": "code",
   "execution_count": 178,
   "metadata": {},
   "outputs": [
    {
     "data": {
      "text/html": [
       "<div>\n",
       "<style scoped>\n",
       "    .dataframe tbody tr th:only-of-type {\n",
       "        vertical-align: middle;\n",
       "    }\n",
       "\n",
       "    .dataframe tbody tr th {\n",
       "        vertical-align: top;\n",
       "    }\n",
       "\n",
       "    .dataframe thead th {\n",
       "        text-align: right;\n",
       "    }\n",
       "</style>\n",
       "<table border=\"1\" class=\"dataframe\">\n",
       "  <thead>\n",
       "    <tr style=\"text-align: right;\">\n",
       "      <th></th>\n",
       "      <th>Country</th>\n",
       "      <th>Year</th>\n",
       "      <th>Life Expectancy</th>\n",
       "      <th>Children per Woman</th>\n",
       "      <th>Population</th>\n",
       "      <th>Continent</th>\n",
       "      <th>Income per Person</th>\n",
       "      <th>Child Mortality</th>\n",
       "    </tr>\n",
       "  </thead>\n",
       "  <tbody>\n",
       "    <tr>\n",
       "      <th>0</th>\n",
       "      <td>Afghanistan</td>\n",
       "      <td>Y1962</td>\n",
       "      <td>33.01</td>\n",
       "      <td>7.67</td>\n",
       "      <td>9.3</td>\n",
       "      <td>Asia</td>\n",
       "      <td>1200</td>\n",
       "      <td>352.0</td>\n",
       "    </tr>\n",
       "    <tr>\n",
       "      <th>1</th>\n",
       "      <td>Afghanistan</td>\n",
       "      <td>Y1963</td>\n",
       "      <td>33.53</td>\n",
       "      <td>7.67</td>\n",
       "      <td>9.5</td>\n",
       "      <td>Asia</td>\n",
       "      <td>1190</td>\n",
       "      <td>346.0</td>\n",
       "    </tr>\n",
       "    <tr>\n",
       "      <th>2</th>\n",
       "      <td>Afghanistan</td>\n",
       "      <td>Y1964</td>\n",
       "      <td>34.07</td>\n",
       "      <td>7.67</td>\n",
       "      <td>9.7</td>\n",
       "      <td>Asia</td>\n",
       "      <td>1190</td>\n",
       "      <td>340.0</td>\n",
       "    </tr>\n",
       "    <tr>\n",
       "      <th>3</th>\n",
       "      <td>Afghanistan</td>\n",
       "      <td>Y1965</td>\n",
       "      <td>34.60</td>\n",
       "      <td>7.67</td>\n",
       "      <td>9.9</td>\n",
       "      <td>Asia</td>\n",
       "      <td>1190</td>\n",
       "      <td>334.0</td>\n",
       "    </tr>\n",
       "    <tr>\n",
       "      <th>4</th>\n",
       "      <td>Afghanistan</td>\n",
       "      <td>Y1966</td>\n",
       "      <td>35.13</td>\n",
       "      <td>7.67</td>\n",
       "      <td>10.1</td>\n",
       "      <td>Asia</td>\n",
       "      <td>1180</td>\n",
       "      <td>328.0</td>\n",
       "    </tr>\n",
       "  </tbody>\n",
       "</table>\n",
       "</div>"
      ],
      "text/plain": [
       "       Country   Year  Life Expectancy  Children per Woman  Population  \\\n",
       "0  Afghanistan  Y1962            33.01                7.67         9.3   \n",
       "1  Afghanistan  Y1963            33.53                7.67         9.5   \n",
       "2  Afghanistan  Y1964            34.07                7.67         9.7   \n",
       "3  Afghanistan  Y1965            34.60                7.67         9.9   \n",
       "4  Afghanistan  Y1966            35.13                7.67        10.1   \n",
       "\n",
       "  Continent  Income per Person  Child Mortality  \n",
       "0      Asia               1200            352.0  \n",
       "1      Asia               1190            346.0  \n",
       "2      Asia               1190            340.0  \n",
       "3      Asia               1190            334.0  \n",
       "4      Asia               1180            328.0  "
      ]
     },
     "execution_count": 178,
     "metadata": {},
     "output_type": "execute_result"
    }
   ],
   "source": [
    "data = pd.read_csv(\"hans_rosling_v4.csv\")\n",
    "data.head()"
   ]
  },
  {
   "cell_type": "code",
   "execution_count": 179,
   "metadata": {},
   "outputs": [
    {
     "data": {
      "text/html": [
       "<div>\n",
       "<style scoped>\n",
       "    .dataframe tbody tr th:only-of-type {\n",
       "        vertical-align: middle;\n",
       "    }\n",
       "\n",
       "    .dataframe tbody tr th {\n",
       "        vertical-align: top;\n",
       "    }\n",
       "\n",
       "    .dataframe thead th {\n",
       "        text-align: right;\n",
       "    }\n",
       "</style>\n",
       "<table border=\"1\" class=\"dataframe\">\n",
       "  <thead>\n",
       "    <tr style=\"text-align: right;\">\n",
       "      <th></th>\n",
       "      <th>Country</th>\n",
       "      <th>Year</th>\n",
       "      <th>Life Expectancy</th>\n",
       "      <th>Children per Woman</th>\n",
       "      <th>Population</th>\n",
       "      <th>Continent</th>\n",
       "      <th>Income per Person</th>\n",
       "      <th>Child Mortality</th>\n",
       "    </tr>\n",
       "  </thead>\n",
       "  <tbody>\n",
       "    <tr>\n",
       "      <th>53</th>\n",
       "      <td>Afghanistan</td>\n",
       "      <td>Y2015</td>\n",
       "      <td>53.8</td>\n",
       "      <td>4.47</td>\n",
       "      <td>32.5</td>\n",
       "      <td>Asia</td>\n",
       "      <td>1750</td>\n",
       "      <td>73.2</td>\n",
       "    </tr>\n",
       "    <tr>\n",
       "      <th>107</th>\n",
       "      <td>Albania</td>\n",
       "      <td>Y2015</td>\n",
       "      <td>78.0</td>\n",
       "      <td>1.78</td>\n",
       "      <td>2.9</td>\n",
       "      <td>Europe</td>\n",
       "      <td>11000</td>\n",
       "      <td>14.0</td>\n",
       "    </tr>\n",
       "    <tr>\n",
       "      <th>161</th>\n",
       "      <td>Algeria</td>\n",
       "      <td>Y2015</td>\n",
       "      <td>76.4</td>\n",
       "      <td>2.71</td>\n",
       "      <td>39.7</td>\n",
       "      <td>Africa</td>\n",
       "      <td>13700</td>\n",
       "      <td>25.5</td>\n",
       "    </tr>\n",
       "    <tr>\n",
       "      <th>215</th>\n",
       "      <td>Angola</td>\n",
       "      <td>Y2015</td>\n",
       "      <td>59.6</td>\n",
       "      <td>5.65</td>\n",
       "      <td>25.0</td>\n",
       "      <td>Africa</td>\n",
       "      <td>6230</td>\n",
       "      <td>86.5</td>\n",
       "    </tr>\n",
       "    <tr>\n",
       "      <th>269</th>\n",
       "      <td>Argentina</td>\n",
       "      <td>Y2015</td>\n",
       "      <td>76.5</td>\n",
       "      <td>2.15</td>\n",
       "      <td>43.4</td>\n",
       "      <td>Americas</td>\n",
       "      <td>19100</td>\n",
       "      <td>11.6</td>\n",
       "    </tr>\n",
       "  </tbody>\n",
       "</table>\n",
       "</div>"
      ],
      "text/plain": [
       "         Country   Year  Life Expectancy  Children per Woman  Population  \\\n",
       "53   Afghanistan  Y2015             53.8                4.47        32.5   \n",
       "107      Albania  Y2015             78.0                1.78         2.9   \n",
       "161      Algeria  Y2015             76.4                2.71        39.7   \n",
       "215       Angola  Y2015             59.6                5.65        25.0   \n",
       "269    Argentina  Y2015             76.5                2.15        43.4   \n",
       "\n",
       "    Continent  Income per Person  Child Mortality  \n",
       "53       Asia               1750             73.2  \n",
       "107    Europe              11000             14.0  \n",
       "161    Africa              13700             25.5  \n",
       "215    Africa               6230             86.5  \n",
       "269  Americas              19100             11.6  "
      ]
     },
     "execution_count": 179,
     "metadata": {},
     "output_type": "execute_result"
    }
   ],
   "source": [
    "data = data[data[\"Year\"] == \"Y2015\"]\n",
    "data.head()"
   ]
  },
  {
   "cell_type": "code",
   "execution_count": null,
   "metadata": {},
   "outputs": [],
   "source": [
    "for country in data[\"Country\"].unique():\n",
    "    print(country)"
   ]
  },
  {
   "cell_type": "code",
   "execution_count": 181,
   "metadata": {},
   "outputs": [],
   "source": [
    "life_expectancy = data[\"Life Expectancy\"]\n",
    "income_per_person = data[\"Income per Person\"]"
   ]
  },
  {
   "cell_type": "code",
   "execution_count": null,
   "metadata": {},
   "outputs": [],
   "source": []
  },
  {
   "cell_type": "code",
   "execution_count": 242,
   "metadata": {},
   "outputs": [],
   "source": [
    "import matplotlib.colors as mcolor\n",
    "\n",
    "def custom_color_to_colorbar(custom_color, axis):\n",
    "    colors = [\n",
    "        custom_color[-1],\n",
    "        custom_color[len(custom_color)//2],\n",
    "        custom_color[0]\n",
    "    ]\n",
    "    print(colors)\n",
    "    cmap = mcolor.LinearSegmentedColormap.from_list('my_cmap', colors, gamma=2)\n",
    "    norm = plt.Normalize(custom_color[:,axis].min(), custom_color[:,axis].max())\n",
    "    sm = plt.cm.ScalarMappable(cmap=cmap, norm=norm)\n",
    "    sm.set_array([]) \n",
    "    return sm"
   ]
  },
  {
   "cell_type": "code",
   "execution_count": 243,
   "metadata": {},
   "outputs": [
    {
     "name": "stdout",
     "output_type": "stream",
     "text": [
      "[array([0. , 0.5, 1. ]), array([0.       , 0.2518797, 0.5037594]), array([0., 0., 0.])]\n"
     ]
    },
    {
     "data": {
      "image/png": "[encoded data removed]",
      "text/plain": [
       "<Figure size 640x480 with 2 Axes>"
      ]
     },
     "metadata": {},
     "output_type": "display_data"
    }
   ],
   "source": [
    "import matplotlib.colors as mcolor\n",
    "\n",
    "fig, ax =plt.subplots()\n",
    "\n",
    "# in this code, colormap doesn't convey any info.\n",
    "# I just want to make color bar and colors\n",
    "\n",
    "#H : 0~360, \n",
    "#S : 0~100,\n",
    "#V : 0~100\n",
    "# 216, 100, 100 ==> blue color #0066FF\n",
    "c_colors = np.array([mcolor.hsv_to_rgb([210/360,100/100,x/100]) for x in list(np.linspace(0,100,134))])\n",
    "# print(c_colors)\n",
    "pc = ax.scatter(life_expectancy, income_per_person,\n",
    "           s=data[\"Population\"],\n",
    "           c=c_colors,\n",
    "           alpha=0.4\n",
    "           )\n",
    "\n",
    "fig.colorbar(custom_color_to_colorbar(c_colors,2),ax=ax)\n",
    "\n",
    "ax.set_xlabel(\"Life Expectancy\")\n",
    "ax.set_ylabel(\"Income per Person\")\n",
    "ax.set_title(\"Life Expectancy vs Income per Person\")\n",
    "\n",
    "fig.tight_layout()"
   ]
  },
  {
   "cell_type": "code",
   "execution_count": 227,
   "metadata": {},
   "outputs": [
    {
     "data": {
      "text/plain": [
       "array([0.        , 0.0037594 , 0.0075188 , 0.0112782 , 0.01503759,\n",
       "       0.01879699, 0.02255639, 0.02631579, 0.03007519, 0.03383459,\n",
       "       0.03759398, 0.04135338, 0.04511278, 0.04887218, 0.05263158,\n",
       "       0.05639098, 0.06015038, 0.06390977, 0.06766917, 0.07142857,\n",
       "       0.07518797, 0.07894737, 0.08270677, 0.08646617, 0.09022556,\n",
       "       0.09398496, 0.09774436, 0.10150376, 0.10526316, 0.10902256,\n",
       "       0.11278195, 0.11654135, 0.12030075, 0.12406015, 0.12781955,\n",
       "       0.13157895, 0.13533835, 0.13909774, 0.14285714, 0.14661654,\n",
       "       0.15037594, 0.15413534, 0.15789474, 0.16165414, 0.16541353,\n",
       "       0.16917293, 0.17293233, 0.17669173, 0.18045113, 0.18421053,\n",
       "       0.18796992, 0.19172932, 0.19548872, 0.19924812, 0.20300752,\n",
       "       0.20676692, 0.21052632, 0.21428571, 0.21804511, 0.22180451,\n",
       "       0.22556391, 0.22932331, 0.23308271, 0.23684211, 0.2406015 ,\n",
       "       0.2443609 , 0.2481203 , 0.2518797 , 0.2556391 , 0.2593985 ,\n",
       "       0.26315789, 0.26691729, 0.27067669, 0.27443609, 0.27819549,\n",
       "       0.28195489, 0.28571429, 0.28947368, 0.29323308, 0.29699248,\n",
       "       0.30075188, 0.30451128, 0.30827068, 0.31203008, 0.31578947,\n",
       "       0.31954887, 0.32330827, 0.32706767, 0.33082707, 0.33458647,\n",
       "       0.33834586, 0.34210526, 0.34586466, 0.34962406, 0.35338346,\n",
       "       0.35714286, 0.36090226, 0.36466165, 0.36842105, 0.37218045,\n",
       "       0.37593985, 0.37969925, 0.38345865, 0.38721805, 0.39097744,\n",
       "       0.39473684, 0.39849624, 0.40225564, 0.40601504, 0.40977444,\n",
       "       0.41353383, 0.41729323, 0.42105263, 0.42481203, 0.42857143,\n",
       "       0.43233083, 0.43609023, 0.43984962, 0.44360902, 0.44736842,\n",
       "       0.45112782, 0.45488722, 0.45864662, 0.46240602, 0.46616541,\n",
       "       0.46992481, 0.47368421, 0.47744361, 0.48120301, 0.48496241,\n",
       "       0.4887218 , 0.4924812 , 0.4962406 , 0.5       ])"
      ]
     },
     "execution_count": 227,
     "metadata": {},
     "output_type": "execute_result"
    }
   ],
   "source": [
    "np_arr = np.array(c_colors)\n",
    "np_arr[:,1]"
   ]
  }
 ],
 "metadata": {
  "kernelspec": {
   "display_name": "Python 3",
   "language": "python",
   "name": "python3"
  },
  "language_info": {
   "codemirror_mode": {
    "name": "ipython",
    "version": 3
   },
   "file_extension": ".py",
   "mimetype": "text/x-python",
   "name": "python",
   "nbconvert_exporter": "python",
   "pygments_lexer": "ipython3",
   "version": "3.9.1"
  }
 },
 "nbformat": 4,
 "nbformat_minor": 2
}
