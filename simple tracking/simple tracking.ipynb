{
 "cells": [
  {
   "cell_type": "code",
   "execution_count": 63,
   "metadata": {},
   "outputs": [],
   "source": [
    "from scipy.spatial import distance as dist\n",
    "from collections import OrderedDict\n",
    "import numpy as np\n",
    "\n",
    "# from typing import List\n",
    "# from numpy.typing import NDArray"
   ]
  },
  {
   "cell_type": "code",
   "execution_count": 64,
   "metadata": {},
   "outputs": [],
   "source": [
    "class CentroidTracker():\n",
    "    def __init__(self, maxDisappeared=50):\n",
    "        self.nextObjectId=0                 # Id is number of object it holds. ex) self.nextObjectId=6 means 5 objects are cared by this class, next new object's id is 6.\n",
    "\n",
    "        self.objects = OrderedDict()        # save data as self.obejcts[Id] = centroid. centroid is center of object, type is (x : int, y : int)\n",
    "        self.disappeared = OrderedDict()    # self.disappeared[Id] = counts. if this reached self.maxDisappeared, Judge this object as disappeared and delete it.\n",
    "\n",
    "        self.maxDisappeared = maxDisappeared\n",
    "\n",
    "    def register(self, centroid):\n",
    "        self.objects[self.nextObjectId] = centroid      # add new centroid and id is current self.nextObjectId\n",
    "        self.disappeared[self.nextObjectId] = 0         # set self.nextObjectId \n",
    "        self.nextObjectId += 1                          # \n",
    "\n",
    "\n",
    "    def deregister(self, objectId):\n",
    "        del self.objects[objectId]\n",
    "        del self.disappeared[objectId]\n",
    "\n",
    "\n",
    "    # format of rects = np.array of (startX, startY, endX, endY)\n",
    "    # update is called every frame. it receive rects and update disappeared and objects\n",
    "    # update(self, )\n",
    "    def update(self, rects):  \n",
    "        # there's no detection. add all object's disappeared by 1                                         \n",
    "        if len(rects) == 0:\n",
    "            for objectId in list(self.disappeared.keys()):\n",
    "                self.disappeared[objectId] += 1\n",
    "            \n",
    "                if self.disappeared[objectId] > self.maxDisappeared:\n",
    "                    self.deregister(objectId)\n",
    "\n",
    "            return self.objects\n",
    "        \n",
    "        # make rooms for input_centroid.\n",
    "        input_centroids = np.zeros((len(rects),2), dtype=\"int\")\n",
    "\n",
    "        for (i, (startX, startY, endX, endY)) in enumerate(rects):\n",
    "            cX = int((startX+endX) / 2.0)\n",
    "            cY = int((startY+endY) / 2.0)\n",
    "            input_centroids[i] = (cX, cY)\n",
    "\n",
    "        # if objects are empty\n",
    "        if len(self.objects) == 0:\n",
    "            for centroid in input_centroids:\n",
    "                self.register(centroid)\n",
    "            \n",
    "        else:\n",
    "            objectIds = list(self.objects.keys())\n",
    "            object_centroids = list(self.objects.values())\n",
    "\n",
    "            D = dist.cdist(np.array(object_centroids), input_centroids)\n",
    "\n",
    "            rows = D.min(axis=1).argsort()\n",
    "\n",
    "            cols = D.argmin(axis=1)[rows]\n",
    "\n",
    "            usedRows = set()\n",
    "            usedCols = set()\n",
    "\n",
    "            for (row, col) in zip(rows, cols):\n",
    "                if row in usedRows or col in usedCols:\n",
    "                    continue\n",
    "\n",
    "                objectId = objectIds[row]\n",
    "                self.objects[objectId] = input_centroids[col]\n",
    "                self.disappeared[objectId] = 0\n",
    "\n",
    "                usedRows.add(row)\n",
    "                usedCols.add(col)\n",
    "            \n",
    "            unusedRows = set(range(0, D.shape[0])).difference(usedRows)\n",
    "            unusedCols = set(range(0, D.shape[1])).difference(usedCols)\n",
    "            \n",
    "            if D.shape[0] >= D.shape[1]:\n",
    "                for row in unusedRows:\n",
    "                    objectID = objectIds[row]\n",
    "                    self.disappeared[objectID] += 1\n",
    "\n",
    "                    if self.disappeared[objectID] > self.maxDisappeared:\n",
    "                        self.deregister(objectID)\n",
    "            else :\n",
    "                for col in unusedCols:\n",
    "                    self.register(input_centroids[col])\n",
    "\n",
    "        return self.objects\n",
    "\n",
    "                    \n"
   ]
  },
  {
   "cell_type": "code",
   "execution_count": 65,
   "metadata": {},
   "outputs": [],
   "source": [
    "from imutils.video import VideoStream\n",
    "import cv2\n",
    "import time\n",
    "import imutils\n"
   ]
  },
  {
   "cell_type": "code",
   "execution_count": 66,
   "metadata": {},
   "outputs": [
    {
     "name": "stdout",
     "output_type": "stream",
     "text": [
      "[INFO] : loading model\n",
      "[INFO] : starting video stream...\n"
     ]
    }
   ],
   "source": [
    "ct = CentroidTracker()\n",
    "(H, W) = (None, None)\n",
    "\n",
    "print(\"[INFO] : loading model\")\n",
    "net = cv2.dnn.readNetFromCaffe(\"./deploy.prototxt\", \"./res10_300x300_ssd_iter_140000.caffemodel\")\n",
    "\n",
    "print(\"[INFO] : starting video stream...\")\n",
    "vs = VideoStream(src=0).start()\n",
    "time.sleep(2.0)"
   ]
  },
  {
   "cell_type": "code",
   "execution_count": 77,
   "metadata": {},
   "outputs": [],
   "source": [
    "# while True:\n",
    "# read the next frame from the video stream and resize it\n",
    "frame = vs.read()\n",
    "frame = imutils.resize(frame, width=400)\n",
    "# if the frame dimensions are None, grab them\n",
    "if W is None or H is None:\n",
    "    (H, W) = frame.shape[:2]\n",
    "# construct a blob from the frame, pass it through the network,\n",
    "# obtain our output predictions, and initialize the list of\n",
    "# bounding box rectangles\n",
    "blob = cv2.dnn.blobFromImage(frame, 1.0, (W, H),\n",
    "    (104.0, 177.0, 123.0))\n",
    "net.setInput(blob)\n",
    "detections = net.forward()\n",
    "rects = []"
   ]
  },
  {
   "cell_type": "code",
   "execution_count": 73,
   "metadata": {},
   "outputs": [
    {
     "data": {
      "text/plain": [
       "(1, 1, 200, 7)"
      ]
     },
     "execution_count": 73,
     "metadata": {},
     "output_type": "execute_result"
    }
   ],
   "source": [
    "detections.shape"
   ]
  },
  {
   "cell_type": "code",
   "execution_count": 72,
   "metadata": {},
   "outputs": [],
   "source": [
    "import matplotlib.pyplot as plt\n",
    "from IPython.display import display, Image"
   ]
  },
  {
   "cell_type": "code",
   "execution_count": null,
   "metadata": {},
   "outputs": [],
   "source": [
    "for i in range(0, detections.shape[2]):\n",
    "\t# filter out weak detections by ensuring the predicted\n",
    "\t# probability is greater than a minimum threshold\n",
    "\tif detections[0, 0, i, 2] > 0.5:\n",
    "\t\t# compute the (x, y)-coordinates of the bounding box for\n",
    "\t\t# the object, then update the bounding box rectangles list\n",
    "\t\tbox = detections[0, 0, i, 3:7] * np.array([W, H, W, H])\n",
    "\t\trects.append(box.astype(\"int\"))\n",
    "\t\t# draw a bounding box surrounding the object so we can\n",
    "\t\t# visualize it\n",
    "\t\t(startX, startY, endX, endY) = box.astype(\"int\")\n",
    "\t\tcv2.rectangle(frame, (startX, startY), (endX, endY),\n",
    "\t\t\t(0, 255, 0), 2)\n",
    "\n",
    "plt.imshow(cv2.cvtColor(frame,cv2.COLOR_RGB2BGR))"
   ]
  }
 ],
 "metadata": {
  "kernelspec": {
   "display_name": "Python 3",
   "language": "python",
   "name": "python3"
  },
  "language_info": {
   "codemirror_mode": {
    "name": "ipython",
    "version": 3
   },
   "file_extension": ".py",
   "mimetype": "text/x-python",
   "name": "python",
   "nbconvert_exporter": "python",
   "pygments_lexer": "ipython3",
   "version": "3.9.1"
  }
 },
 "nbformat": 4,
 "nbformat_minor": 2
}
